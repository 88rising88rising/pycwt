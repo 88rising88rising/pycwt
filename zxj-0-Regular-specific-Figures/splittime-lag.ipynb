{
 "cells": [
  {
   "cell_type": "code",
   "execution_count": 1,
   "metadata": {},
   "outputs": [],
   "source": []
  },
  {
   "cell_type": "code",
   "execution_count": 1,
   "metadata": {},
   "outputs": [
    {
     "name": "stdout",
     "output_type": "stream",
     "text": [
      "len(KSO_time) 30773\n",
      "KSO_time[0] 1996/01/11\n",
      "KSO_t[0] 1996/01/11\n",
      "KSO_n[0] 1996/01/11\n",
      "KSO_s[0] 1996/01/11\n",
      "a.replace(';',' ')=  1996 01 11\n",
      "list(a)=  ['1', '9', '9', '6', ' ', '0', '1', ' ', '1', '1']\n",
      "y=  1996\n",
      "m=   0\n"
     ]
    }
   ],
   "source": [
    "KSO_time = [str(l.split()[0]) for l in open(\"0-univ_all.txt\")]\n",
    "KSO_t = [str(l.split()[0]) for l in open(\"0-univ_all.txt\")]\n",
    "KSO_n = [str(l.split()[0]) for l in open(\"0-univ_all.txt\")]\n",
    "KSO_s = [str(l.split()[0]) for l in open(\"0-univ_all.txt\")]\n",
    "\n",
    "print (\"len(KSO_time)\", len(KSO_time))\n",
    "print(\"KSO_time[0]\", KSO_time[0])\n",
    "print(\"KSO_t[0]\", KSO_t[0])\n",
    "print(\"KSO_n[0]\", KSO_n[0])\n",
    "print(\"KSO_s[0]\", KSO_s[0])\n",
    "a=KSO_time[0]\n",
    "b=a.replace('/',' ')\n",
    "c=list(b)\n",
    "print(\"a.replace(';',' ')= \",b)\n",
    "print(\"list(a)= \",c)\n",
    "y=c[0]+c[1]+c[2]+c[3]\n",
    "print(\"y= \",y)\n",
    "m=c[4]+c[5]\n",
    "print(\"m= \",m)"
   ]
  },
  {
   "cell_type": "code",
   "execution_count": 3,
   "metadata": {},
   "outputs": [],
   "source": [
    "import numpy as np\n",
    "file=open('0-univ_all.txt','r')\n",
    "line=file.readline()\n",
    "time=[]\n",
    "value_CPA=[]\n",
    "value_width=[]\n",
    "lag_CPA=[]\n",
    "while line:\n",
    "    time.append(line.split()[0])\n",
    "    value_CPA.append(line.split()[2])\n",
    "    value_width.append(line.split()[3])\n",
    "    lag_CPA.append(line.split()[12::])\n",
    "    line=file.readline()"
   ]
  },
  {
   "cell_type": "code",
   "execution_count": 4,
   "metadata": {},
   "outputs": [
    {
     "name": "stdout",
     "output_type": "stream",
     "text": [
      "1996/01/11\n",
      "267\n",
      "18\n",
      "['Only', 'C3']\n",
      "['Only', 'C3']\n",
      "['Only', 'C3']\n",
      "['Very', 'Poor', 'Event;', 'Only', 'C3']\n",
      "5\n"
     ]
    }
   ],
   "source": [
    "print(time[0])\n",
    "print(value_CPA[0])\n",
    "print(value_width[0])\n",
    "print(lag_CPA[0])\n",
    "print(lag_CPA[1])\n",
    "print(lag_CPA[2])\n",
    "print(lag_CPA[3])\n",
    "print(len(lag_CPA[3]))"
   ]
  },
  {
   "cell_type": "code",
   "execution_count": 6,
   "metadata": {},
   "outputs": [
    {
     "name": "stdout",
     "output_type": "stream",
     "text": [
      "1996 01 11\n",
      "2020 12 30\n"
     ]
    }
   ],
   "source": [
    "#clear /,change the time all\n",
    "import numpy as np\n",
    "file=open('0-univ_all.txt','r')\n",
    "line=file.readline()\n",
    "time=[]\n",
    "value_CPA=[]\n",
    "value_width=[]\n",
    "lag_CPA=[]\n",
    "while line:\n",
    "    time.append(line.split()[0])\n",
    "    value_CPA.append(line.split()[2])\n",
    "    value_width.append(line.split()[3])\n",
    "    lag_CPA.append(line.split()[12::])\n",
    "    line=file.readline()\n",
    "file_new=open('splittime_lag.txt','w')\n",
    "time_add=[]\n",
    "time_list=[]\n",
    "time_Y=[]\n",
    "time_M=[]\n",
    "time_YM=[]\n",
    "time_D=[]\n",
    "time_YMD=[]\n",
    "for i in range(len(time)):\n",
    "    time_add.append(time[i].replace('/',' '))\n",
    "    time_list.append(list(time_add[i]))\n",
    "    time_Y.append(time_list[i][0]+time_list[i][1]+time_list[i][2]+time_list[i][3])\n",
    "    time_M.append(time_list[i][5]+time_list[i][6])\n",
    "    time_D.append(time_list[i][8]+time_list[i][9])\n",
    "    time_YM.append(round(float(time_Y[i])+float(time_M[i])/12, 4))\n",
    "    time_YMD.append(round(float(time_Y[i])+float(time_M[i])/12+float(time_D[i])/365, 4))\n",
    "    file_new.write(str(time_Y[i]).center(6)+\" \"+str(time_M[i]).center(6)+\" \"+str(time_YM[i]).center(10)+str(time_D[i]).center(8)+str(time_YMD[i]).center(15)+str(value_CPA[i]).center(10)+str(value_width[i]).center(10)+str(lag_CPA[i]).center(20)+\"\\n\")\n",
    "print(time_Y[0],time_M[0],time_D[0])\n",
    "print(time_Y[-1],time_M[-1],time_D[-1])\n",
    "\n"
   ]
  },
  {
   "cell_type": "code",
   "execution_count": 8,
   "metadata": {},
   "outputs": [
    {
     "name": "stdout",
     "output_type": "stream",
     "text": [
      "1996 01 11\n",
      "2020 12 30\n"
     ]
    }
   ],
   "source": [
    "#clear /,change the time allexcept poorevent\n",
    "import numpy as np\n",
    "file=open('0-univ_all.txt','r')\n",
    "line=file.readline()\n",
    "time=[]\n",
    "value_CPA=[]\n",
    "value_width=[]\n",
    "lag_CPA=[]\n",
    "while line:\n",
    "    time.append(line.split()[0])\n",
    "    value_CPA.append(line.split()[2])\n",
    "    value_width.append(line.split()[3])\n",
    "    lag_CPA.append(line.split()[12::])\n",
    "    line=file.readline()\n",
    "file_new1=open('splittime_lag-specific.txt','w')\n",
    "file_new2=open('splittime_lag-regular.txt','w')\n",
    "time_add=[]\n",
    "time_list=[]\n",
    "time_Y=[]\n",
    "time_M=[]\n",
    "time_YM=[]\n",
    "time_D=[]\n",
    "time_YMD=[]\n",
    "for i in range(len(time)):\n",
    "    time_add.append(time[i].replace('/',' '))\n",
    "    time_list.append(list(time_add[i]))\n",
    "    time_Y.append(time_list[i][0]+time_list[i][1]+time_list[i][2]+time_list[i][3])\n",
    "    time_M.append(time_list[i][5]+time_list[i][6])\n",
    "    time_D.append(time_list[i][8]+time_list[i][9])\n",
    "    time_YM.append(round(float(time_Y[i])+float(time_M[i])/12, 4))\n",
    "    time_YMD.append(round(float(time_Y[i])+float(time_M[i])/12+float(time_D[i])/365, 4))\n",
    "    if (\"Very\" in lag_CPA[i]) or(\"Poor\" in lag_CPA[i]) or float(value_width[i])<=5:\n",
    "        file_new1.write(str(time_Y[i]).center(6)+\" \"+str(time_M[i]).center(6)+\" \"+str(time_YM[i]).center(10)+str(time_D[i]).center(8)+str(time_YMD[i]).center(15)+str(value_CPA[i]).center(10)+str(value_width[i]).center(10)+str(lag_CPA[i]).center(8)+\"\\n\")\n",
    "    else:\n",
    "        file_new2.write(str(time_Y[i]).center(6)+\" \"+str(time_M[i]).center(6)+\" \"+str(time_YM[i]).center(10)+str(time_D[i]).center(8)+str(time_YMD[i]).center(15)+str(value_CPA[i]).center(10)+str(value_width[i]).center(10)+str(lag_CPA[i]).center(20)+\"\\n\")\n",
    " \n",
    "print(time_Y[0],time_M[0],time_D[0])\n",
    "print(time_Y[-1],time_M[-1],time_D[-1])"
   ]
  },
  {
   "cell_type": "code",
   "execution_count": 10,
   "metadata": {},
   "outputs": [
    {
     "name": "stdout",
     "output_type": "stream",
     "text": [
      "len(specififTimeY) 18173\n",
      "len(regulartimeY) 12600\n",
      "len(specififTimeY)+len(regulartimeY),len(oritimeY) 30773 30773 30773\n"
     ]
    }
   ],
   "source": [
    "specififTimeY = [str(l.split()[0]) for l in open(\"splittime_lag-specific.txt\")]\n",
    "regulartimeY = [str(l.split()[0]) for l in open(\"splittime_lag-regular.txt\")]\n",
    "oritimeY = [str(l.split()[0]) for l in open(\"0-univ_all.txt\")]\n",
    "lagtimeY = [str(l.split()[0]) for l in open(\"splittime_lag.txt\")]\n",
    "print(\"len(specififTimeY)\",len(specififTimeY))\n",
    "print(\"len(regulartimeY)\",len(regulartimeY))\n",
    "print(\"len(specififTimeY)+len(regulartimeY),len(oritimeY)\",len(specififTimeY)+len(regulartimeY),len(oritimeY),len(lagtimeY))\n"
   ]
  },
  {
   "cell_type": "code",
   "execution_count": 2,
   "metadata": {},
   "outputs": [],
   "source": [
    "#devide-regular-cpa-halo\n",
    " \n",
    "from turtle import width\n",
    "import numpy as np  \n",
    "file=open('splittime_lag-regular.txt','r')\n",
    "line=file.readline()\n",
    "timeY=[]\n",
    "timeM=[]\n",
    "timeYM=[]\n",
    "timeD=[]\n",
    "timeYMD=[]\n",
    "dataCPA=[]\n",
    "datawidth=[]\n",
    "lag_CPA=[]\n",
    "\n",
    "while line:\n",
    "    timeY.append(line.split()[0])\n",
    "    timeM.append(line.split()[1])\n",
    "    timeYM.append(line.split()[2])\n",
    "    timeD.append(line.split()[3])\n",
    "    timeYMD.append(line.split()[4])\n",
    "    dataCPA.append(line.split()[5])\n",
    "    datawidth.append(line.split()[6])\n",
    "    lag_CPA.append(line.split()[7::])\n",
    "    line=file.readline()\n",
    "\n",
    "\n",
    "wri_fil11 = open(\"./splittime-lag-regular-cpa-and-halo-CPA.txt\",'w')\n",
    "wri_fil12 = open(\"./splittime-lag-regular-cpa-and-halo-Halo.txt\",'w')\n",
    "for i in range(0,len(timeY)):\n",
    "    if dataCPA[i] == \"Halo\":\n",
    "        wri_fil12.write(str(timeY[i]).center(8)+\" \"+str(timeM[i]).center(6)+\" \"+str(timeYM[i]).center(12)+\" \"+str(timeD[i]).center(6)+\" \"+ str(timeYMD[i]).center(16)+\" \"+str(dataCPA[i]).center(8)+str(datawidth[i]).center(10)+str(lag_CPA[i]).center(10)+'\\n')\n",
    "    else:\n",
    "         wri_fil11.write(str(timeY[i]).center(8)+\" \"+str(timeM[i]).center(6)+\" \"+str(timeYM[i]).center(12)+\" \"+str(timeD[i]).center(6)+\" \"+ str(timeYMD[i]).center(16)+\" \"+str(dataCPA[i]).center(8)+str(datawidth[i]).center(10)+str(lag_CPA[i]).center(30)+'\\n')\n",
    "    #print('{:.3f} %'.format(i/len(timeY)*100.))"
   ]
  },
  {
   "cell_type": "code",
   "execution_count": 4,
   "metadata": {},
   "outputs": [
    {
     "name": "stdout",
     "output_type": "stream",
     "text": [
      "len(rTimeY)= 12600 len(rTimeYHalo)= 646 len(rTimeYcpa)= 11954 12600\n"
     ]
    }
   ],
   "source": [
    "#count-regular-cpa-halo\n",
    "rTimeY = [str(l.split()[0]) for l in open(\"splittime_lag-regular.txt\")]\n",
    "rTimeYhalo = [str(l.split()[0]) for l in open(\"splittime-lag-regular-cpa-and-halo-Halo.txt\")]\n",
    "rTimeYcpa = [str(l.split()[0]) for l in open(\"splittime-lag-regular-cpa-and-halo-CPA.txt\")]\n",
    "\n",
    "print(\"len(rTimeY)=\",len(rTimeY),\"len(rTimeYHalo)=\",len(rTimeYhalo),\"len(rTimeYcpa)=\",len(rTimeYcpa),len(rTimeYcpa)+len(rTimeYhalo))"
   ]
  },
  {
   "cell_type": "code",
   "execution_count": 7,
   "metadata": {},
   "outputs": [],
   "source": [
    "#devide-specific-cpa-halo\n",
    "from turtle import width\n",
    "import numpy as np  \n",
    "file=open('splittime_lag-specific.txt','r')\n",
    "line=file.readline()\n",
    "timeY=[]\n",
    "timeM=[]\n",
    "timeYM=[]\n",
    "timeD=[]\n",
    "timeYMD=[]\n",
    "dataCPA=[]\n",
    "datawidth=[]\n",
    "lag_CPA=[]\n",
    "\n",
    "while line:\n",
    "    timeY.append(line.split()[0])\n",
    "    timeM.append(line.split()[1])\n",
    "    timeYM.append(line.split()[2])\n",
    "    timeD.append(line.split()[3])\n",
    "    timeYMD.append(line.split()[4])\n",
    "    dataCPA.append(line.split()[5])\n",
    "    datawidth.append(line.split()[6])\n",
    "    lag_CPA.append(line.split()[7::])\n",
    "    line=file.readline()\n",
    "\n",
    "\n",
    "wri_fil11 = open(\"./splittime-lag-specific-cpa-and-halo-CPA.txt\",'w')\n",
    "wri_fil12 = open(\"./splittime-lag-specific-cpa-and-halo-Halo.txt\",'w')\n",
    "for i in range(0,len(timeY)):\n",
    "    if dataCPA[i] == \"Halo\":\n",
    "        wri_fil12.write(str(timeY[i]).center(8)+\" \"+str(timeM[i]).center(6)+\" \"+str(timeYM[i]).center(12)+\" \"+str(timeD[i]).center(6)+\" \"+ str(timeYMD[i]).center(16)+\" \"+str(dataCPA[i]).center(8)+str(datawidth[i]).center(10)+str(lag_CPA[i]).center(10)+'\\n')\n",
    "    else:\n",
    "         wri_fil11.write(str(timeY[i]).center(8)+\" \"+str(timeM[i]).center(6)+\" \"+str(timeYM[i]).center(12)+\" \"+str(timeD[i]).center(6)+\" \"+ str(timeYMD[i]).center(16)+\" \"+str(dataCPA[i]).center(8)+str(datawidth[i]).center(10)+str(lag_CPA[i]).center(30)+'\\n')\n",
    "    #print('{:.3f} %'.format(i/len(timeY)*100.))"
   ]
  },
  {
   "cell_type": "code",
   "execution_count": 9,
   "metadata": {},
   "outputs": [
    {
     "name": "stdout",
     "output_type": "stream",
     "text": [
      "len(sTimeY)= 18173 len(sTimeYHalo)= 80 len(sTimeYcpa)= 18093 18173\n"
     ]
    }
   ],
   "source": [
    "#count-specific-cpa-halo\n",
    "sTimeY = [str(l.split()[0]) for l in open(\"splittime_lag-specific.txt\")]\n",
    "sTimeYhalo = [str(l.split()[0]) for l in open(\"splittime-lag-specific-cpa-and-halo-Halo.txt\")]\n",
    "sTimeYcpa = [str(l.split()[0]) for l in open(\"splittime-lag-specific-cpa-and-halo-CPA.txt\")]\n",
    "\n",
    "print(\"len(sTimeY)=\",len(sTimeY),\"len(sTimeYHalo)=\",len(sTimeYhalo),\"len(sTimeYcpa)=\",len(sTimeYcpa),len(sTimeYcpa)+len(sTimeYhalo))"
   ]
  }
 ],
 "metadata": {
  "kernelspec": {
   "display_name": "Python 3",
   "language": "python",
   "name": "python3"
  },
  "language_info": {
   "codemirror_mode": {
    "name": "ipython",
    "version": 3
   },
   "file_extension": ".py",
   "mimetype": "text/x-python",
   "name": "python",
   "nbconvert_exporter": "python",
   "pygments_lexer": "ipython3",
   "version": "3.8.5"
  },
  "vscode": {
   "interpreter": {
    "hash": "6550f7eae0e622a063739f5ec23aae115ff1b967635453546a6f3ac44eae2517"
   }
  }
 },
 "nbformat": 4,
 "nbformat_minor": 4
}
